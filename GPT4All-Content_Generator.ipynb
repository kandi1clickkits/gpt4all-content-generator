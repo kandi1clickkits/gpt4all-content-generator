{
 "cells": [
  {
   "cell_type": "markdown",
   "id": "a952f482",
   "metadata": {},
   "source": [
    "# Import Libraries"
   ]
  },
  {
   "cell_type": "code",
   "execution_count": 1,
   "id": "3ade981f",
   "metadata": {},
   "outputs": [],
   "source": [
    "from __future__ import annotations\n",
    "from typing import Iterable\n",
    "import gradio as gr\n",
    "from gradio.themes.base import Base\n",
    "from gradio.themes.utils import colors, fonts, sizes\n",
    "\n",
    "from llama_cpp import Llama"
   ]
  },
  {
   "cell_type": "markdown",
   "id": "ec3f71fa",
   "metadata": {},
   "source": [
    "# Load GPT4all model"
   ]
  },
  {
   "cell_type": "code",
   "execution_count": 2,
   "id": "1b0c6c12",
   "metadata": {},
   "outputs": [
    {
     "name": "stderr",
     "output_type": "stream",
     "text": [
      "AVX = 1 | AVX2 = 1 | AVX512 = 0 | AVX512_VBMI = 0 | AVX512_VNNI = 0 | FMA = 1 | NEON = 0 | ARM_FMA = 0 | F16C = 1 | FP16_VA = 0 | WASM_SIMD = 0 | BLAS = 0 | SSE3 = 1 | VSX = 0 | \n"
     ]
    }
   ],
   "source": [
    "llm = Llama(model_path=\"./models/gpt4all-lora-quantized-ggml.bin\", seed=0)"
   ]
  },
  {
   "cell_type": "markdown",
   "id": "811291db",
   "metadata": {},
   "source": [
    "# Define prompt setup"
   ]
  },
  {
   "cell_type": "code",
   "execution_count": 3,
   "id": "0960d2d6",
   "metadata": {},
   "outputs": [],
   "source": [
    "ins = '''### Instruction:\n",
    "{}\n",
    "### Response:\n",
    "'''\n",
    "\n",
    "def generate(instruction, max_tokens=256, temperature=0.75, top_p=0.9, repeat_penalty=1.1, top_k=40): \n",
    "    result = \"\"\n",
    "    for x in llm(ins.format(instruction), max_tokens= max_tokens, top_p= top_p,repeat_penalty=repeat_penalty,top_k=top_k, stop=['### Instruction:', '### End'], stream=True):\n",
    "        result += x['choices'][0]['text']\n",
    "        yield result"
   ]
  },
  {
   "cell_type": "markdown",
   "id": "a33d213b",
   "metadata": {},
   "source": [
    "# Gradio Interface"
   ]
  },
  {
   "cell_type": "code",
   "execution_count": 17,
   "id": "2246c180",
   "metadata": {},
   "outputs": [
    {
     "name": "stdout",
     "output_type": "stream",
     "text": [
      "Running on local URL:  http://127.0.0.1:7860\n",
      "\n",
      "To create a public link, set `share=True` in `launch()`.\n"
     ]
    },
    {
     "data": {
      "text/html": [
       "<div><iframe src=\"http://127.0.0.1:7860/\" width=\"100%\" height=\"500\" allow=\"autoplay; camera; microphone; clipboard-read; clipboard-write;\" frameborder=\"0\" allowfullscreen></iframe></div>"
      ],
      "text/plain": [
       "<IPython.core.display.HTML object>"
      ]
     },
     "metadata": {},
     "output_type": "display_data"
    },
    {
     "name": "stdout",
     "output_type": "stream",
     "text": [
      "Keyboard interruption in main thread... closing server.\n"
     ]
    },
    {
     "data": {
      "text/plain": []
     },
     "execution_count": 17,
     "metadata": {},
     "output_type": "execute_result"
    }
   ],
   "source": [
    "with gr.Blocks(theme=gr.themes.Soft(font=[fonts.GoogleFont(\"Quicksand\"),\"ui-sans-serif\",\"sans-serif\"]), analytics_enabled=False) as gpt4all_interface:\n",
    "    with gr.Column():\n",
    "        gr.Markdown(\n",
    "            \"\"\" ## GPT4ALL\n",
    "            \n",
    "            An ecosystem of open-source chatbots trained on a massive collections of clean assistant data including code, stories and dialogue\n",
    "            \n",
    "            Type your question in the 'Question box' below and click the 'Generate' button to generate answers to your questions!\n",
    "            \n",
    "      \"\"\"\n",
    "        )\n",
    "\n",
    "        with gr.Row():\n",
    "            with gr.Column(scale=3):\n",
    "                instruction = gr.Textbox(placeholder=\"Enter your question here\", label=\"Question\", elem_id=\"q-input\")\n",
    "                max_tokens = gr.Slider(10, 512, label=\"Max Tokens\", interactive=True,step=2, value=250, info=\"Length of sequences/tokens to be generated\")\n",
    "                temperature = gr.Slider(0.1, 1.0, label=\"Creativity Quotient\", interactive=True, step=0.02, value=0.8, info=\"Temperature for sampling - Higher the temperature, higher the randomness in content\")\n",
    "                with gr.Accordion(label='Advanced options', open=False):\n",
    "                    top_p = gr.Slider(0.0, 1.0, label=\"Top P\", step=0.02, value=0.95, info=\"Top-p value for sampling\")\n",
    "                    repeat_penalty = gr.Slider(0.0, 3.0, label=\"Repeat Penalty\", step=0.1, value=1.1, info=\"Penalty for repeated tokens\")\n",
    "                    top_k = gr.Slider(0, 80, label=\"Top K\", step=2, value=40, info=\"Top_k value for sampling\")\n",
    "\n",
    "                with gr.Box():\n",
    "                    gr.Markdown(\"**Answer**\")\n",
    "                    output = gr.Markdown(elem_id=\"q-output\")\n",
    "                submit = gr.Button(\"Generate\", variant=\"primary\")\n",
    "\n",
    "    submit.click(generate, inputs=[instruction,max_tokens,temperature,top_p,repeat_penalty,top_k], outputs=[output])\n",
    "    instruction.submit(generate, inputs=[instruction,max_tokens,temperature,top_p,repeat_penalty,top_k], outputs=[output])\n",
    "\n",
    "gpt4all_interface.queue(concurrency_count=1).launch(debug=True, inbrowser=True)"
   ]
  },
  {
   "cell_type": "code",
   "execution_count": null,
   "id": "94236455",
   "metadata": {},
   "outputs": [],
   "source": []
  }
 ],
 "metadata": {
  "kernelspec": {
   "display_name": "Python 3 (ipykernel)",
   "language": "python",
   "name": "python3"
  },
  "language_info": {
   "codemirror_mode": {
    "name": "ipython",
    "version": 3
   },
   "file_extension": ".py",
   "mimetype": "text/x-python",
   "name": "python",
   "nbconvert_exporter": "python",
   "pygments_lexer": "ipython3",
   "version": "3.7.4"
  }
 },
 "nbformat": 4,
 "nbformat_minor": 5
}
